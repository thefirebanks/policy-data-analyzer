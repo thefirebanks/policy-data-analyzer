{
 "cells": [
  {
   "cell_type": "markdown",
   "metadata": {},
   "source": [
    "# Main code"
   ]
  },
  {
   "cell_type": "code",
   "execution_count": 1,
   "metadata": {},
   "outputs": [],
   "source": [
    "import re\n",
    "import random\n",
    "import nltk.data\n",
    "import spacy \n",
    "import string\n",
    "from collections import Counter\n",
    "from collections import defaultdict\n",
    "import nltk\n",
    "import unidecode"
   ]
  },
  {
   "cell_type": "code",
   "execution_count": 2,
   "metadata": {},
   "outputs": [],
   "source": [
    "def remove_html_tags(text):\n",
    "    \"\"\"Remove html tags from a string\"\"\"\n",
    "    return re.sub(re.compile('<.*?>'), '', text)\n",
    "\n",
    "def replace_links(text):\n",
    "    text = re.sub(r'http\\S+', '[URL]', text)\n",
    "    return re.sub(r'www\\S+', '[URL]', text)\n",
    "\n",
    "def remove_multiple_spaces(text):\n",
    "    return re.sub('\\s+', ' ', text)\n",
    "\n",
    "def parse_emails(text):\n",
    "    \"\"\" \n",
    "    Remove the periods from emails in text, except the last one\n",
    "    \"\"\"\n",
    "    emails = [email if email[-1] != \".\" else email[:-1] for email in re.findall(r\"\\S*@\\S*\\s?\", text)]\n",
    "    \n",
    "    for email in emails:\n",
    "        new_email = email.replace(\".\", \"\")\n",
    "        text = text.replace(email, new_email)\n",
    "        \n",
    "    return text\n",
    "\n",
    "def parse_acronyms(text):\n",
    "    \"\"\" \n",
    "    Remove the periods from acronyms in the text (i.e \"U.S.\" becomes \"US\") \n",
    "    \"\"\"\n",
    "\n",
    "    acronyms = re.findall(r\"\\b(?:[a-zA-Z]\\.){2,}\", text)\n",
    "         \n",
    "    for acronym in acronyms:\n",
    "        new_acronym = acronym.replace(\".\", \"\")\n",
    "        text = text.replace(acronym, new_acronym)\n",
    "        \n",
    "    return text\n",
    "\n",
    "def spanish_preprocessing(txt, remove_new_lines=False):\n",
    "    \"\"\"\n",
    "    Steps in the preprocessing of text:\n",
    "        1. Remove HTML tags\n",
    "        2. Replace URLS by a tag [URL]\n",
    "        3. Replace new lines and tabs by normal spaces - sometimes sentences have new lines in the middle\n",
    "        4. Remove excessive spaces (more than 1 occurrence)\n",
    "        5. Parse abreviations and acronyms\n",
    "    \"\"\"\n",
    "    txt = replace_links(remove_html_tags(txt)).strip()\n",
    "    if remove_new_lines:\n",
    "        txt = txt.replace(\"\\n\", \" \").replace(\"\\t\", \" \").strip()\n",
    "    txt = remove_multiple_spaces(txt)\n",
    "    txt = parse_emails(txt)\n",
    "    txt = parse_acronyms(txt)\n",
    "    \n",
    "    new_txt = \"\"\n",
    "    all_period_idx = set([indices.start() for indices in re.finditer(\"\\.\", txt)])\n",
    "    \n",
    "    for i, char in enumerate(txt):\n",
    "        if i in all_period_idx:\n",
    "            # Any char following a period that is NOT a space means that we should not add that period\n",
    "            if i + 1 < len(txt) and txt[i + 1] != \" \":\n",
    "                continue\n",
    "            \n",
    "            # Any char that is a number following a period will not count. \n",
    "            # For enumerations, we're counting on docs being enumerated as \"(a)\" or \"(ii)\", and if not, they will be separated by the . after the number (\"3. Something\" will just be \"Something\" as a sentence)\n",
    "            if i + 2 < len(txt) and txt[i + 2].isnumeric(): \n",
    "                continue\n",
    "            \n",
    "            # If we wanted to have all numbered lists together, uncomment this, and comment out the previous condition\n",
    "#             if i + 2 < len(txt) and not txt[i + 2].isalpha(): \n",
    "#                 continue\n",
    "            \n",
    "        new_txt += char\n",
    "\n",
    "    return unidecode.unidecode(new_txt)\n",
    "\n",
    "def get_nltk_sents(txt, tokenizer, extra_abbreviations=None):\n",
    "    if extra_abbreviations:\n",
    "        tokenizer._params.abbrev_types.update(extra_abbreviations)\n",
    "        \n",
    "    sents = tokenizer.tokenize(txt)\n",
    "    return sents\n",
    "\n",
    "def spanish_postprocessing(sents, min_num_words=4):\n",
    "    \"\"\"\n",
    "    Remove sentences that are made of less than a given number of words. Default is 4\n",
    "    \"\"\"\n",
    "    \n",
    "    return [sent for sent in sents if len(sent.split()) >= min_num_words]\n",
    "\n",
    "def format_sents_for_output(sents, doc_id):\n",
    "    formatted_sents = {}\n",
    "\n",
    "    for i, sent in enumerate(sents):\n",
    "        formatted_sents.update({f\"{doc_id}_sent_{i}\": {\"text\": sent, \"label\": []}})\n",
    "\n",
    "    return formatted_sents"
   ]
  },
  {
   "cell_type": "code",
   "execution_count": null,
   "metadata": {},
   "outputs": [],
   "source": []
  },
  {
   "cell_type": "markdown",
   "metadata": {},
   "source": [
    "# Usage"
   ]
  },
  {
   "cell_type": "code",
   "execution_count": 3,
   "metadata": {},
   "outputs": [
    {
     "data": {
      "text/plain": [
       "'/Users/dafirebanks/Projects/policy-data-analyzer'"
      ]
     },
     "execution_count": 3,
     "metadata": {},
     "output_type": "execute_result"
    }
   ],
   "source": [
    "import os\n",
    "os.chdir(\"../../../\")\n",
    "os.getcwd()"
   ]
  },
  {
   "cell_type": "code",
   "execution_count": 5,
   "metadata": {},
   "outputs": [],
   "source": [
    "from tasks.data_loading.src.s3_client import *"
   ]
  },
  {
   "cell_type": "code",
   "execution_count": 6,
   "metadata": {},
   "outputs": [],
   "source": [
    "# 1. Setup amazon client\n",
    "filepath = \"/Users/dafirebanks/Documents\"\n",
    "filename = \"credentials.json\"\n",
    "s3_client = S3Client(creds_filepath=filepath, creds_filename=filename, \n",
    "              bucket_name=\"wri-nlp-policy\", language=\"spanish\")"
   ]
  },
  {
   "cell_type": "code",
   "execution_count": 20,
   "metadata": {},
   "outputs": [
    {
     "name": "stdout",
     "output_type": "stream",
     "text": [
      "File_id: /000bd482c20f22b801193f1897ed1eca89318a53\n",
      "Text: SECRETARIA DE DESARROLLO URBANO Y OBRAS\n",
      "PUBLICAS DEL ESTADO DE QUERETARO\n",
      "DEPARTAMENTO DE CONCURSOS\n",
      "R\n",
      "=======================================\n",
      "File_id: /000d91e74dd312e2f8d2f28bd154c3cab6a8bc10\n",
      "Text: \n",
      "  CONVENIO de Coordinación en materia de reasignación de recursos que celebran la Secretaría de Com\n",
      "=======================================\n"
     ]
    }
   ],
   "source": [
    "# 2. Make sure we're getting the right files\n",
    "i = 0\n",
    "for file_id, text in s3_client.load_text_files(\"spanish\"):\n",
    "    print(\"File_id:\", file_id)\n",
    "    print(\"Text:\", text[:100])\n",
    "    print(\"=======================================\")\n",
    "    i += 1\n",
    "    if i == 2:\n",
    "        break\n"
   ]
  },
  {
   "cell_type": "code",
   "execution_count": 25,
   "metadata": {
    "collapsed": true,
    "jupyter": {
     "outputs_hidden": true
    }
   },
   "outputs": [
    {
     "name": "stdout",
     "output_type": "stream",
     "text": [
      "<class 'list'> ['SECRETARIA DE DESARROLLO URBANO Y OBRAS PUBLICAS DEL ESTADO DE QUERETARO DEPARTAMENTO DE CONCURSOS RESUMEN DE CONVOCATORIA 001 LICITACION PUBLICA NACIONAL De conformidad con la Ley de Obras Publicas y Servicios Relacionados con las Mismas del Sector Publico, se convoca a los interesados a participar en la licitacion publica nacional con numero 51005002-001-19 cuya Convocatoria contiene las bases de participacion disponible para consulta en Internet: [URL] o bien en: Francisco I. Madero No 72, Colonia Centro Historico, CP 76000, Santiago de Queretaro, Queretaro, telefono: (442)2-27-18-00, ext 2302 y 2304, los dias del 09 al 16 de mayo del 2019 de las 9:00 a 14:00 horas.', 'Referencia del expediente: 51005002-001-19 QUERETARO, QUERETARO, A 9 DE MAYO DE 2019.', 'SUBSECRETARIO DE DESARROLLO URBANO Y ADMINISTRACION DE OBRAS PUBLICAS CP JORGE LUIS PEREZ TREJO RUBRICA.', '(R- 481067) Descripcion de la licitacion MODERNIZACION DE LA CARRETERA ESTATAL 413 DE LA CUEVA A PRESA DE BRAVO (TRAMO 4, DEL KM 12+445 AL 14+300).', 'Ubicacion CARRETERA ESTATAL 413 DE LA CUEVA A PRESA DE BRAVO (TRAMO 4, DEL KM 12+445 AL 14+300).', 'Volumen de licitacion Se detalla en la Convocatoria Fecha de publicacion en CompraNet 09/05/19 Visita al lugar de los trabajos 16/05/19 09:00 horas Junta de aclaraciones 16/05/19 12:00 horas Presentacion y apertura de proposiciones 24/05/19 12:00 horas']\n",
      "<class 'list'> ['CONVENIO de Coordinacion en materia de reasignacion de recursos que celebran la Secretaria de Comunicaciones y Transportes y el Estado de Colima, para la construccion y modernizacion de caminos rurales y carreteras alimentadoras en la entidad CONVENIO de Coordinacion en materia de reasignacion de recursos que celebran la Secretaria de Comunicaciones y Transportes y el Estado de Colima, para la construccion y modernizacion de caminos rurales y carreteras alimentadoras en la entidad.', 'CONVENIO DE COORDINACION EN MATERIA DE REASIGNACION DE RECURSOS QUE CELEBRAN POR UNA PARTE EL EJECUTIVO FEDERAL, POR CONDUCTO DE LA SECRETARIA DE COMUNICACIONES Y TRANSPORTES A LA QUE EN ADELANTE SE LE DENOMINARA \"LA SCT\", REPRESENTADA POR SU TITULAR EL LIC.', 'GERARDO RUIZ ESPARZA, ASISTIDO POR EL SUBSECRETARIO DE INFRAESTRUCTURA, M. EN A. RAUL MURRIETA CUMMINGS Y EL DIRECTOR GENERAL DEL CENTRO SCT COLIMA, ARQ.', 'OSCAR ALEJANDRO TORRES CONTRERAS, Y POR LA OTRA PARTE, EL EJECUTIVO DEL ESTADO LIBRE Y SOBERANO DE COLIMA AL QUE EN LO SUCESIVO SE DENOMINARA \"LA ENTIDAD FEDERATIVA\", REPRESENTADA POR EL LE MARIO ANGUIANO MORENO, EN SU CARACTER DE GOBERNADOR CONSTITUCIONAL, ASISTIDO POR EL LIC.', 'RAFAEL GUTIERREZ VILLALOBOS, SECRETARIO GENERAL DE GOBIERNO; CP BLANCA ISABEL AVALOS FERNANDEZ, SECRETARIA DE FINANZAS Y ADMINISTRACION; ING. CARLOS ARIAS GUILLEN, SECRETARIO DE DESARROLLO URBANO; Y EL CP ARTURO FLORES GARCIA, CONTRALOR GENERAL DEL ESTADO, CONFORME A LOS ANTECEDENTES, DECLARACIONES Y CLAUSULAS SIGUIENTES: ANTECEDENTES I.', 'La Ley Federal de Presupuesto y Responsabilidad Hacendaria, dispone en el articulo 83, segundo parrafo, que las dependencias y entidades de la Administracion Publica Federal que requieran suscribir convenios de reasignacion, deberan apegarse al modelo de convenio emitido por la Secretaria de Hacienda y Credito Publico (SHCP) y la Secretaria de la Funcion Publica (SFP), asi como obtener la autorizacion presupuestaria de la SHCP.', 'II.', 'La Direccion General de Programacion y Presupuesto (DGPyP) \"B\" de la SHCP, mediante oficio numero 312A-001582 de fecha 13 de mayo de 2015 emitio su dictamen de suficiencia presupuestaria para que LA SCT reasigne recursos a la ENTIDAD FEDERATIVA con cargo a su presupuesto autorizado.', 'DECLARACIONES I.', 'De LA SCT: 1.', 'Que es una dependencia del Poder Ejecutivo Federal que cuenta con la competencia necesaria para celebrar este Convenio, de conformidad con lo senalado en los articulos 26 y 36 de la Ley Organica de la Administracion Publica Federal 2.', 'Que en el ambito de su competencia le corresponde formular y conducir las politicas y programas para el desarrollo del transporte y las comunicaciones de acuerdo a las necesidades del pais; asi como construir y conservar caminos y puentes federales, en cooperacion con los gobiernos de las entidades federativas, con los municipios y los particulares, de acuerdo con lo establecido en el articulo 36 de la Ley Organica de la Administracion Publica Federal 3.', 'Que su titular, el Lic.', 'Gerardo Ruiz Esparza cuenta con las facultades suficientes y necesarias que le permiten suscribir el presente Convenio, segun se desprende de lo previsto en el articulo 4o.', 'del Reglamento Interior de la Secretaria de Comunicaciones y Transportes 4.', 'Que para todos los efectos legales relacionados con este Convenio senala como su domicilio el ubicado en Avenida Xola y Avenida Universidad S/N, Cuerpo \"C\", Primer Piso, colonia Narvarte, Delegacion Benito Juarez, CP 03028, Mexico, DF II.', 'De la ENTIDAD FEDERATIVA: 1.', 'Que en terminos de los articulos 40, 43 y 116 de la Constitucion Politica de los Estados Unidos Mexicanos, asi como 2o.', 'de la Constitucion Politica del Estado Libre y Soberano de Colima, es un Estado Libre y Soberano integrante de la Federacion 2.', 'Que concurre a la celebracion del presente Convenio a traves del Gobernador de la ENTIDAD FEDERATIVA, quien se encuentra facultado para ello en terminos de lo establecido en los articulos 50 y 58 de la Constitucion Politica del Estado Libre y Soberano de Colima, asi como 1o, 2o.', 'de la Ley Organica de la Administracion Publica del Estado de Colima y demas disposiciones locales aplicables 3.', 'Que de conformidad con los articulos 60, de la Constitucion Politica del Estado Libre y Soberano de Colima y 9o, 19o, fracciones I, II y IV, 20o, 21o, 23o, de la Ley Organica de la Administracion Publica del Estado de Colima, asi como el articulo No 7 del Decreto que determina las funciones de las Unidades Administrativas dependientes del Titular del Poder Ejecutivo del Estado, del 8 de noviembre del ano 2003, este Convenio es tambien suscrito por los secretarios General de Gobierno, de Finanzas y Administracion, de Desarrollo Urbano y el Contralor General del Estado 4.', 'Que sus prioridades para alcanzar los objetivos pretendidos a traves del presente instrumento son la construccion y modernizacion de caminos rurales y carreteras alimentadoras para mejorar las comunicaciones en el interior del Estado y con las regiones vecinas, a fin de elevar la calidad de vida de los habitantes del Estado de Colima 5.', 'Que para todos los efectos legales relacionados con este Convenio senala como su domicilio el ubicado en calle Aldama No 901, Palacio de Gobierno, colonia centro, codigo postal 31000, Colima, Colima.', 'En virtud de lo anterior y con fundamento en los articulos 90 de la Constitucion Politica de los Estados Unidos Mexicanos; 22, 26 y 36 de la Ley Organica de la Administracion Publica Federal; 5o.', 'y 25 de la Ley de Caminos, Puentes y Autotransporte Federal; 1 de la Ley de Adquisiciones, Arrendamientos y Servicios del Sector Publico; 1 de la Ley de Obras Publicas y Servicios Relacionados con las Mismas; 82 y 83 de la Ley Federal de Presupuesto y Responsabilidad Hacendaria, y 223, 224, 225 y 226 de su Reglamento, asi como en los articulos 2, 50 y 58 de la Constitucion Politica del Estado Libre y Soberano de Colima, y los articulos 1o, 2o, 9o, 19, 20, 21, 22 y 23 de la Ley Organica de la Administracion Publica del Estado de Colima, asi como el articulo No 7 del Decreto que determina las funciones de las Unidades Administrativas dependientes del Titular del Poder Ejecutivo del Estado, del 8 de noviembre del ano 2003; y Segundo transitorio de los \"Lineamientos para el ejercicio eficaz, transparente, agil y eficiente de los recursos que transfieren las dependencias y entidades de la Administracion Publica Federal a las entidades federativas mediante convenios de coordinacion en materia de reasignacion de recursos\", publicados en el Diario Oficial de la Federacion el 28 de marzo de 2007, y demas disposiciones juridicas aplicables, las partes celebran el presente Convenio al tenor de las siguientes: CLAUSULAS PRIMERA- OBJETO- El presente Convenio y los anexos que forman parte integrante del mismo, tienen por objeto transferir recursos presupuestarios federales a la ENTIDAD FEDERATIVA para coordinar su participacion con el Ejecutivo Federal en materia de construccion y modernizacion de caminos rurales y carreteras alimentadoras en el Estado de Colima; reasignar a aquella la ejecucion de programas federales; definir la aplicacion que se dara a tales recursos; precisar los compromisos que sobre el particular asumen la ENTIDAD FEDERATIVA y el Ejecutivo Federal; y establecer los mecanismos para la evaluacion y control de su ejercicio.', \"Los recursos que reasigna el Ejecutivo Federal a que se refiere la clausula segunda del presente Convenio, se aplicaran al programa y hasta por el importe que a continuacion se mencionan: PROGRAMA IMPORTE Construccion y modernizacion de caminos rurales y carreteras alimentadoras 49'992,80400 TOTAL 49'992,80400 El programa a que se refiere el parrafo anterior se preve en forma detallada en el Anexo 1 del presente Convenio.\", 'Con el objeto de asegurar la aplicacion y efectividad del presente Convenio, las partes se sujetaran a lo establecido en el mismo y sus correspondientes anexos, a los \"Lineamientos para el ejercicio eficaz, transparente, agil y eficiente de los recursos que transfieren las dependencias y entidades de la Administracion Publica Federal a las entidades federativas mediante convenios de coordinacion en materia de reasignacion de recursos\", publicados en el Diario Oficial de la Federacion el 28 de marzo de 2007, asi como a las demas disposiciones juridicas aplicables.', \"SEGUNDA- REASIGNACION- Para la realizacion de las acciones objeto del presente Convenio, el Ejecutivo Federal reasignara a la ENTIDAD FEDERATIVA recursos presupuestarios federales hasta por la cantidad de $49'992,80400 (cuarenta y nueve millones novecientos noventa y dos mil ochocientos cuatro pesos 00/100 MN) con cargo al presupuesto de LA SCT, de acuerdo con los plazos y calendario establecidos que se precisan en el Anexo 2 de este Convenio.\", 'Los recursos a que se refiere el parrafo anterior, conforme a los articulos 82, fraccion IX, y 83, primer parrafo, de la Ley Federal de Presupuesto y Responsabilidad Hacendaria, se radicaran, a traves de la Secretaria de Finanzas y Administracion de la ENTIDAD FEDERATIVA, en la cuenta bancaria productiva especifica que esta establezca para tal efecto, en forma previa a la entrega de los recursos, en la institucion de credito bancaria que la misma determine, informando de ello a LA SCT, con la finalidad de que los recursos reasignados y sus rendimientos financieros esten debidamente identificados.', 'Los recursos presupuestarios federales que se reasignen a la ENTIDAD FEDERATIVA en los terminos de este Convenio no pierden su caracter federal.', 'A efecto de dar cumplimiento a lo dispuesto en el articulo 82, fraccion II, de la Ley Federal de Presupuesto y Responsabilidad Hacendaria, la ENTIDAD FEDERATIVA debera observar los siguientes criterios para asegurar la transparencia en la distribucion, aplicacion y comprobacion de los recursos presupuestarios federales reasignados: PARAMETROS: - LA ENTIDAD FEDERATIVA, por conducto de su dependencia ejecutora, debera cumplir con los compromisos asumidos en el desarrollo de metas y ejercicio de recursos.', '- Se procedera a la difusion del presente Convenio, mediante su publicacion en el Diario Oficial de la Federacion y en el Periodico Oficial del Estado de Colima.', '- A traves de las Secretarias de Finanzas y Administracion y de la Contraloria General de LA ENTIDAD FEDERATIVA, se atendera el debido cumplimiento de las medidas de control en materia de distribucion, aplicacion y comprobacion de los recursos reasignados, establecidas a nivel local y en el presente Convenio de Reasignacion de Recursos.', 'TERCERA- OBJETIVOS E INDICADORES DE DESEMPENO Y SUS METAS- Los recursos presupuestarios federales que reasigna el Ejecutivo Federal por conducto de LA SCT a que se refiere la clausula segunda del presente Convenio, se aplicaran al programa a que se refiere la clausula primera del mismo, el cual tendra los objetivos e indicadores de desempeno y sus metas que a continuacion se mencionan: OBJETIVOS METAS INDICADORES Construccion y modernizacion de caminos rurales y carreteras alimentadoras 200 km 200 km X 100 / 200 km CUARTA- APLICACION- Los recursos presupuestarios federales que reasigna el Ejecutivo Federal a que alude la clausula segunda de este instrumento, se destinaran en forma exclusiva a la construccion y modernizacion de caminos rurales y carreteras alimentadoras en el Estado de Colima.', 'Dichos recursos no podran traspasarse a otros conceptos de gasto y se registraran conforme a su naturaleza, como gasto corriente o gasto de capital.', 'Los recursos presupuestarios federales que se reasignen, una vez devengados y conforme avance el ejercicio, deberan ser registrados por la ENTIDAD FEDERATIVA en su contabilidad de acuerdo con las disposiciones juridicas aplicables y se rendiran en su Cuenta Publica, sin que por ello pierdan su caracter federal.', 'Los rendimientos financieros que generen los recursos a que se refiere la clausula segunda de este Convenio, deberan destinarse al programa previsto en la clausula primera del mismo.', 'QUINTA- GASTOS ADMINISTRATIVOS- Para sufragar los gastos administrativos que resulten de la ejecucion del programa previsto en la clausula primera del presente instrumento, se podra destinar hasta un dos por ciento del total de los recursos aportados por las partes.', 'SEXTA- OBLIGACIONES DE LA ENTIDAD FEDERATIVA- LA ENTIDAD FEDERATIVA se obliga a: I.', 'Aplicar los recursos a que se refiere la clausula segunda de este instrumento en el programa establecido en la clausula primera del mismo, sujetandose a los objetivos e indicadores de desempeno y sus metas previstos en la clausula tercera de este instrumento.', 'II.', 'Responsabilizarse, a traves de su Secretaria de Finanzas y Administracion de: administrar los recursos presupuestarios federales radicados unicamente en la cuenta bancaria productiva especifica senalada en la clausula segunda de este Convenio, por lo que no podran traspasarse tales recursos a otras cuentas; efectuar las ministraciones oportunamente para la ejecucion del programa previsto en este instrumento; recabar la documentacion comprobatoria de las erogaciones; realizar los registros correspondientes en la contabilidad y en la Cuenta Publica local conforme sean devengados y ejercidos los recursos, respectivamente, asi como dar cumplimiento a las demas disposiciones federales aplicables en la administracion de dichos recursos, en corresponsabilidad con la instancia ejecutora local.', 'III.', 'Entregar mensualmente por conducto de la Secretaria de Finanzas y Administracion a LA SCT, la relacion detallada sobre las erogaciones del gasto elaborada por la instancia ejecutora y validada por la propia Secretaria de Finanzas y Administracion.', 'Asimismo, se compromete a mantener bajo su custodia, a traves de la Secretaria de Finanzas y Administracion la documentacion comprobatoria original de los recursos presupuestarios federales erogados, hasta en tanto la misma le sea requerida por LA SCT y, en su caso por la SHCP y la SFP, asi como la informacion adicional que estas ultimas le requieran, de conformidad con lo establecido en los articulos 83, primer parrafo, de la Ley Federal de Presupuesto y Responsabilidad Hacendaria, y 224, fraccion VI, de su Reglamento.', 'La documentacion comprobatoria del gasto de los recursos presupuestarios federales objeto de este Convenio, debera cumplir con los requisitos fiscales establecidos en las disposiciones federales aplicables.', 'IV.', 'Registrar en su contabilidad los recursos presupuestarios federales que reciba, de acuerdo con los principios de contabilidad gubernamental, y aquella informacion relativa a la rendicion de informes sobre las finanzas publicas y la Cuenta Publica local ante su Congreso.', 'V.', 'Iniciar las acciones para dar cumplimiento al programa a que hace referencia la clausula primera de este Convenio, en un plazo no mayor a 15 dias naturales, contados a partir de la formalizacion de este instrumento.', 'VI.', 'Observar las disposiciones legales federales aplicables a las obras publicas y a los servicios relacionados con las mismas, asi como a las adquisiciones, arrendamientos de bienes muebles y prestacion de servicios de cualquier naturaleza que se efectuen con los recursos senalados en la clausula segunda del presente Convenio.', 'VII.', 'Evitar comprometer recursos que excedan de su capacidad financiera, para la realizacion del programa previsto en este instrumento.', 'VIII.', 'Requerir con la oportunidad debida a las instancias federales, estatales o municipales que correspondan, la asesoria tecnica, autorizaciones o permisos que resulten necesarios para la realizacion del programa previsto en este instrumento.', 'IX.', 'Reportar y dar seguimiento trimestralmente, en coordinacion con LA SCT sobre el avance en el cumplimiento de objetivos e indicadores de desempeno y sus metas, previstos en la clausula tercera de este Convenio, asi como el avance y, en su caso, resultados de las acciones que lleve a cabo de conformidad con este instrumento, en los terminos establecidos en los numerales Duodecimo y Decimo Tercero de los \"Lineamientos para informar sobre los recursos federales transferidos a las entidades federativas, municipios y demarcaciones territoriales del Distrito Federal, y de operacion de los recursos del Ramo General 33\", publicados en el Diario Oficial de la Federacion el 25 de abril de 2013.', 'De ser el caso, y conforme a las disposiciones aplicables, evaluar los resultados obtenidos con la aplicacion de los recursos presupuestarios federales que se proporcionaran en el marco del presente Convenio.', 'X.', 'Proporcionar la informacion y documentacion que en relacion con los recursos a que se refiere la clausula segunda de este instrumento requieran los organos de control y fiscalizacion federales y estatales facultados, y permitir a estos las visitas de inspeccion que en ejercicio de sus respectivas atribuciones lleven a cabo.', 'XI.', 'Presentar a LA SCT, y por conducto de esta a la SHCP, a traves de la DGPyP \"B\", y directamente a la SFP, por conducto de la Direccion General de Operacion Regional y Contraloria Social, a mas tardar el ultimo dia habil de febrero de 2016, el cierre de ejercicio de las operaciones realizadas, las conciliaciones bancarias, el monto de los recursos ejercidos, en su caso, con el desglose a que se refiere la clausula segunda de este instrumento, asi como el nivel de cumplimiento de los objetivos de los programas y las metas de los indicadores de desempeno, alcanzados en el ejercicio de 2015.', 'SEPTIMA- OBLIGACIONES DEL EJECUTIVO FEDERAL- El Ejecutivo Federal, a traves de LA SCT, se obliga a: I. Reasignar los recursos presupuestarios federales a que se refiere la clausula segunda, parrafo primero, del presente Convenio, de acuerdo con los plazos y calendario que se precisan en el Anexo 2 de este instrumento.', 'II.', 'Realizar los registros correspondientes en la Cuenta Publica federal y en los demas informes sobre el ejercicio del gasto publico, a efecto de informar sobre la aplicacion de los recursos transferidos en el marco del presente Convenio.', 'III.', 'Dar seguimiento trimestralmente, en coordinacion con la ENTIDAD FEDERATIVA, sobre el avance en el cumplimiento de objetivos e indicadores de desempeno y sus metas, previstos en la clausula tercera del presente Convenio.', 'Asimismo, evaluar los resultados obtenidos con la aplicacion de los recursos presupuestarios federales que se proporcionaran en el marco de este instrumento.', 'OCTAVA- RECURSOS HUMANOS- Los recursos humanos que requiera cada una de las partes para la ejecucion del objeto del presente Convenio, quedaran bajo su absoluta responsabilidad juridica y administrativa, y no existira relacion laboral alguna entre estos y la otra parte, por lo que en ningun caso se entenderan como patrones sustitutos o solidarios.', 'NOVENA- CONTROL, VIGILANCIA, SEGUIMIENTO Y EVALUACION- El control, vigilancia, seguimiento y evaluacion de los recursos presupuestarios federales a que se refiere la clausula segunda del presente Convenio correspondera a LA SCT, a la SHCP, a la SFP y a la Auditoria Superior de la Federacion, sin perjuicio de las acciones de vigilancia, control, seguimiento y evaluacion que, en coordinacion con la SFP, realice el organo de control de la ENTIDAD FEDERATIVA.', 'Las responsabilidades administrativas, civiles y penales derivadas de afectaciones a la Hacienda Publica Federal en que, en su caso, incurran los servidores publicos, federales o locales, asi como los particulares, seran sancionadas en los terminos de la legislacion aplicable.', 'DECIMA- VERIFICACION- Con el objeto de asegurar la efectividad del presente Convenio, LA SCT y la ENTIDAD FEDERATIVA revisaran periodicamente su contenido y aplicacion, asi como tambien adoptaran las medidas necesarias para establecer el enlace y la comunicacion requeridas para dar el debido seguimiento a los compromisos asumidos.', 'Las partes convienen que la ENTIDAD FEDERATIVA destine una cantidad equivalente al uno al millar del monto total de los recursos reasignados y aportados en efectivo, a favor de la Contraloria General del Estado para que realice la vigilancia, inspeccion, control y evaluacion de las obras y acciones ejecutadas por administracion directa con esos recursos; dicha cantidad sera ejercida conforme a los lineamientos que emita la SFP.', 'La ministracion correspondiente se hara conforme a los plazos y calendario programados para el ejercicio de los recursos reasignados, para lo que del total de estos recursos se restara hasta el uno al millar y la diferencia se aplicara a las acciones que se detallan en el anexo 1 de este instrumento.', 'Para el caso de las obras publicas ejecutadas por contrato, aplicara lo dispuesto en el articulo 191 de la Ley Federal de Derechos.', 'La SFP verificara en cualquier momento el cumplimiento de los compromisos a cargo de la ENTIDAD FEDERATIVA, en los terminos del presente instrumento.', 'En los terminos establecidos en el articulo 82, fracciones XI y XII de la Ley Federal de Presupuesto y Responsabilidad Hacendaria, la ENTIDAD FEDERATIVA destinara un monto equivalente al uno al millar del monto total de los recursos reasignados para la fiscalizacion de los mismos, a favor del organo tecnico de fiscalizacion de la legislatura de la ENTIDAD FEDERATIVA.', 'DECIMA PRIMERA- SUSPENSION O CANCELACION DE LA REASIGNACION DE RECURSOS- El Ejecutivo Federal, por conducto de LA SCT podra suspender o cancelar la ministracion subsecuente de recursos presupuestarios federales a la ENTIDAD FEDERATIVA, cuando se determine que se hayan utilizado con fines distintos a los previstos en este Convenio o por el incumplimiento de las obligaciones contraidas en el mismo, supuestos en los cuales los recursos indebidamente utilizados tendran que ser restituidos a la Tesoreria de la Federacion, dentro de los 15 dias habiles siguientes en que lo requiera LA SCT.', 'Previo a que la SCT determine lo que corresponda en terminos del parrafo anterior, concedera el derecho de audiencia a la ENTIDAD FEDERATIVA para que, en su caso, aclare o desvirtue los hechos que se le imputen.', 'DECIMA SEGUNDA- RECURSOS FEDERALES NO DEVENGADOS- Las partes acuerdan que los remanentes o saldos disponibles de los recursos presupuestarios federales en la cuenta bancaria productiva especifica a que se refiere la clausula segunda de este Convenio, incluyendo los rendimientos financieros generados, que no se encuentren devengados o esten vinculados formalmente con compromisos y obligaciones de pago al 31 de diciembre de 2015, se reintegraran a la Tesoreria de la Federacion, en un plazo de 15 dias naturales contados a partir del cierre del ejercicio fiscal, conforme a las disposiciones aplicables.', 'DECIMA TERCERA- MODIFICACIONES AL CONVENIO- Las partes acuerdan que el presente Convenio podra modificarse de comun acuerdo y por escrito, sin alterar su estructura y en estricto apego a las disposiciones juridicas aplicables.', 'Las modificaciones al Convenio deberan publicarse en el Diario Oficial de la Federacion y en el Organo de Difusion Oficial de la ENTIDAD FEDERATIVA dentro de los 15 dias habiles posteriores a su formalizacion.', 'En caso de contingencias para la realizacion del programa previsto en este instrumento, ambas partes acuerdan tomar las medidas o mecanismos que permitan afrontar dichas contingencias.', 'En todo caso, las medidas y mecanismos acordados seran formalizados mediante la suscripcion del convenio modificatorio correspondiente.', 'DECIMA CUARTA- INTERPRETACION, JURISDICCION Y COMPETENCIA- Las partes manifiestan su conformidad para interpretar, en el ambito de sus respectivas competencias, y resolver de comun acuerdo, todo lo relativo a la ejecucion y cumplimiento del presente Convenio, asi como a sujetar todo lo no previsto en el mismo a lo dispuesto en la Ley Federal de Presupuesto y Responsabilidad Hacendaria, su Reglamento, asi como a las demas disposiciones juridicas aplicables.', 'De las controversias que surjan con motivo de la ejecucion y cumplimiento del presente Convenio conoceran los tribunales federales competentes en la Ciudad de Mexico.', 'DECIMA QUINTA- VIGENCIA- El presente Convenio comenzara a surtir sus efectos a partir de la fecha de su suscripcion, y hasta el 31 de diciembre de 2015, con excepcion de lo previsto en la fraccion XI de la clausula sexta de este instrumento, debiendose publicar en el Diario Oficial de la Federacion y en el organo de difusion oficial de la ENTIDAD FEDERATIVA, dentro de los 15 dias habiles posteriores a su formalizacion, de conformidad con el articulo 224, ultimo parrafo, del Reglamento de la Ley Federal de Presupuesto y Responsabilidad Hacendaria.', 'DECIMA SEXTA- TERMINACION ANTICIPADA- El presente Convenio podra darse por terminado cuando se presente alguna de las siguientes causas: I.', 'Por estar satisfecho el objeto para el que fue celebrado; II.', 'Por acuerdo de las partes; III.', 'Por rescision, cuando se determine que los recursos presupuestarios federales se utilizaron con fines distintos a los previstos en este Convenio o por el incumplimiento de las obligaciones contraidas en el mismo, y IV.', 'Por caso fortuito o fuerza mayor.', 'DECIMA SEPTIMA- DIFUSION Y TRANSPARENCIA- El Ejecutivo Federal, a traves de LA SCT, difundira en su pagina de Internet el programa financiado con los recursos a que se refiere la clausula segunda del presente Convenio, incluyendo los avances y resultados fisicos y financieros.', 'La ENTIDAD FEDERATIVA se compromete, por su parte, a difundir dicha informacion mediante su pagina de Internet y otros medios publicos, en los terminos de las disposiciones aplicables.', 'Estando enteradas las partes del contenido y alcance legal del presente Convenio, lo firman a los 23 dias del mes de junio de dos mil quince- Por el Ejecutivo Federal: el Secretario de Comunicaciones y Transportes, Gerardo Ruiz Esparza- Rubrica- El Subsecretario de Infraestructura, Raul Murrieta Cummings- Rubrica- El Director General del Centro SCT Colima, Oscar Alejandro Torres Contreras- Rubrica- Por el Ejecutivo de la Entidad Federativa de Colima: el Gobernador Constitucional, Mario Anguiano Moreno- Rubrica- El Secretario General de Gobierno, Rafael Gutierrez Villalobos- Rubrica- La Secretaria de Finanzas y Administracion, Blanca Isabel Avalos Fernandez- Rubrica- El Secretario de Desarrollo Urbano, Carlos Arias Guillen- Rubrica- El Contralor General del Estado, Arturo Flores Garcia- Rubrica.', 'CONVENIO DE COORDINACION EN MATERIA DE REASIGNACION DE RECURSOS 2015 SECRETARIA DE COMUNICACIONES Y TRANSPORTES-GOBIERNO DEL ESTADO DE COLIMA CONSTRUCCION Y MODERNIZACION DE CAMINOS RURALES Y ALIMENTADORES (Pesos) ANEXO 1 CONCEPTO META KM INVERSION (PESOS) Libramiento Comala (20 kms.', \"Pavimentacion y 2 puentes de 68 y 40 mts) 200 49 '992,80400 TOTALES 200 49 '992,80400 ANEXO 2 CONCEPTO TOTAL JUN Libramiento Comala (20 kms.\", \"Pavimentacion y 2 puentes de 68 y 40 mts) 49 '992,80400 49 '992,80400 TOTALES 49 '992,80400 49 '992,80400 _____________________ En el documento que usted esta visualizando puede haber texto, caracteres u objetos que no se muestren debido a la conversion a formato HTML, por lo que le recomendamos tomar siempre como referencia la imagen digitalizada del DOF o el archivo PDF de la edicion.\"]\n"
     ]
    }
   ],
   "source": [
    "# 3. Start preprocessing\n",
    "i = 0\n",
    "\n",
    "es_tokenizer = nltk.data.load(\"tokenizers/punkt/spanish.pickle\")\n",
    "spa_abrevs = {\"ord\", \"num\", \"sra\", \"no\", \"corp\", \"art\", \"ltda\", \"ud\"}\n",
    "min_num_words = 5\n",
    "language = \"spanish\"\n",
    "error_files = []\n",
    "new_text_files_folder = f\"{language}_documents/text_files/processed\"\n",
    "processed_text_files_folder = f\"{language}_documents/text_files/processed\"\n",
    "\n",
    "for file_id, text in s3_client.load_text_files(language):\n",
    "    try:\n",
    "\n",
    "        file_id = file_id.replace(\"/\", \"\")\n",
    "        preprocessed = spanish_preprocessing(text)\n",
    "        sents = get_nltk_sents(preprocessed, es_tokenizer, spa_abrevs)\n",
    "        post_processed_sents = format_sents_for_output(spanish_postprocessing(sents, min_num_words), file_id)\n",
    "        s3_client.store_sentences(post_processed_sents, file_id, language)\n",
    "        s3_client.move_object(file_id + \".txt\", new_text_files_folder, processed_text_files_folder)\n",
    "        \n",
    "    except Exception as e:\n",
    "        error_files.append({file_id: e})\n",
    "    \n",
    "    i += 1\n",
    "\n",
    "    if i % 100 == 0:\n",
    "        print(\"----------------------------------------------\")\n",
    "        print(f\"Processing {i} documents...\")\n",
    "        print(f\"Number of errors so far: {len(error_files)}\")\n",
    "        print(\"----------------------------------------------\")"
   ]
  },
  {
   "cell_type": "code",
   "execution_count": null,
   "metadata": {},
   "outputs": [],
   "source": [
    "error_files"
   ]
  },
  {
   "cell_type": "code",
   "execution_count": null,
   "metadata": {},
   "outputs": [],
   "source": [
    "# If you want to store the errors\n",
    "with open(\"../output/sentence_splitting_errors.json\", \"w\") as f:\n",
    "    json.dump(error_files, f)"
   ]
  },
  {
   "cell_type": "code",
   "execution_count": null,
   "metadata": {},
   "outputs": [],
   "source": []
  },
  {
   "cell_type": "code",
   "execution_count": null,
   "metadata": {},
   "outputs": [],
   "source": []
  },
  {
   "cell_type": "markdown",
   "metadata": {},
   "source": [
    "# Experiments"
   ]
  },
  {
   "cell_type": "code",
   "execution_count": null,
   "metadata": {},
   "outputs": [],
   "source": [
    "import os\n",
    "import pandas as pd\n",
    "import pickle\n",
    "import re\n",
    "\n",
    "\n",
    "USC_re = re.compile('[Uu]\\.*[Ss]\\.*[Cc]\\.]+')\n",
    "PAREN_re = re.compile('\\([^(]+\\ [^\\(]+\\)')\n",
    "BAD_PUNCT_RE = re.compile(r'([%s])' % re.escape('\"#%&\\*\\+/<=>@[\\]^{|}~_'), re.UNICODE)\n",
    "BULLET_RE = re.compile('\\n[\\ \\t]*`*\\([a-zA-Z0-9]*\\)')\n",
    "DASH_RE = re.compile('--+')\n",
    "WHITESPACE_RE = re.compile('\\s+')\n",
    "EMPTY_SENT_RE = re.compile('[,\\.]\\ *[\\.,]')\n",
    "FIX_START_RE = re.compile('^[^A-Za-z]*')\n",
    "FIX_PERIOD = re.compile('\\.([A-Za-z])')\n",
    "SECTION_HEADER_RE = re.compile('SECTION [0-9]{1,2}\\.|\\nSEC\\.* [0-9]{1,2}\\.|Sec\\.* [0-9]{1,2}\\.')\n",
    "\n",
    "FIX_PERIOD = re.compile('\\.([A-Za-z])')\n",
    "\n",
    "SECTION_HEADER_RE = re.compile('SECTION [0-9]{1,2}\\.|\\nSEC\\.* [0-9]{1,2}\\.|Sec\\.* [0-9]{1,2}\\.')\n",
    "\n",
    "def clean_text(text):\n",
    "    \"\"\"\n",
    "    Borrowed from the FNDS text processing with additional logic added in.\n",
    "    Note: we do not take care of token breaking - assume SPACY's tokenizer\n",
    "    will handle this for us.\n",
    "    \"\"\"\n",
    "\n",
    "    # Indicate section headers, we need them for features\n",
    "    text = SECTION_HEADER_RE.sub('SECTION-HEADER', text)\n",
    "    # For simplicity later, remove '.' from most common acronym\n",
    "    text = text.replace(\"U.S.\", \"US\")\n",
    "    text = text.replace('SEC.', 'Section')\n",
    "    text = text.replace('Sec.', 'Section')\n",
    "    text = USC_re.sub('USC', text)\n",
    "\n",
    "    # Remove parantheticals because they are almost always references to laws \n",
    "    # We could add a special tag, but we just remove for now\n",
    "    # Note we dont get rid of nested parens because that is a complex re\n",
    "    #text = PAREN_re.sub('LAWREF', text)\n",
    "    text = PAREN_re.sub('', text)\n",
    "    \n",
    "\n",
    "    # Get rid of enums as bullets or ` as bullets\n",
    "    text = BULLET_RE.sub(' ',text)\n",
    "    \n",
    "    # Clean html \n",
    "    text = text.replace('&lt;all&gt;', '')\n",
    "\n",
    "    # Remove annoying punctuation, that's not relevant\n",
    "    text = BAD_PUNCT_RE.sub('', text)\n",
    "\n",
    "    # Get rid of long sequences of dashes - these are formating\n",
    "    text = DASH_RE.sub( ' ', text)\n",
    "\n",
    "    # removing newlines, tabs, and extra spaces.\n",
    "    text = WHITESPACE_RE.sub(' ', text)\n",
    "    \n",
    "    # If we ended up with \"empty\" sentences - get rid of them.\n",
    "    text = EMPTY_SENT_RE.sub('.', text)\n",
    "    \n",
    "    # Attempt to create sentences from bullets \n",
    "#    text = replace_semicolon(text)\n",
    "    \n",
    "    # Fix weird period issues + start of text weirdness\n",
    "    #text = re.sub('\\.(?=[A-Z])', '  . ', text)\n",
    "    # Get rid of anything thats not a word from the start of the text\n",
    "    text = FIX_START_RE.sub( '', text)\n",
    "    # Sometimes periods get formatted weird, make sure there is a space between periods and start of sent   \n",
    "    text = FIX_PERIOD.sub(\". \\g<1>\", text)\n",
    "\n",
    "    # Fix quotes\n",
    "    text = text.replace('``', '\"')\n",
    "    text = text.replace('\\'\\'', '\"')\n",
    "\n",
    "    # Add special punct back in\n",
    "    text = text.replace('SECTION-HEADER', '<SECTION-HEADER>')\n",
    "\n",
    "    return text"
   ]
  },
  {
   "cell_type": "code",
   "execution_count": null,
   "metadata": {},
   "outputs": [],
   "source": [
    "base_path = \"../input/Mexico/\"\n",
    "chile_paths = [\"Chile1.txt\", \"Chile2.txt\", \"Chile3.txt\"]\n",
    "elsalvador_paths = [\"ElSalvador1.txt\", \"ElSalvador2.txt\", \"ElSalvador3.txt\"]\n",
    "mexico_paths = [\"Mexico1.txt\", \"Mexico2.txt\", \"Mexico3.txt\", \"Mexico4.txt\", \"Mexico5.txt\", \"Mexico6.txt\"]\n",
    "fname = mexico_paths[1]\n",
    "txt_path = base_path + fname\n",
    "\n",
    "with open(txt_path, \"r\") as txt_file:\n",
    "    txt = txt_file.read()\n",
    "    \n",
    "# txt"
   ]
  },
  {
   "cell_type": "code",
   "execution_count": null,
   "metadata": {},
   "outputs": [],
   "source": [
    "# Initial out of the box result\n",
    "es_tokenizer = nltk.data.load(\"tokenizers/punkt/spanish.pickle\")\n",
    "spa_abrevs = {\"ord\", \"num\", \"sra\", \"no\", \"corp\", \"art\", \"ltda\", \"ud\"}\n",
    "preprocessed1 = spanish_preprocessing(clean_text(txt))\n",
    "preprocessed2 = spanish_preprocessing(txt)\n",
    "s1 = get_nltk_sents(preprocessed1, es_tokenizer, spa_abrevs)\n",
    "s2 = get_nltk_sents(preprocessed2, es_tokenizer, spa_abrevs)\n",
    "len(s1), len(s2)"
   ]
  },
  {
   "cell_type": "code",
   "execution_count": null,
   "metadata": {},
   "outputs": [],
   "source": [
    "s2"
   ]
  },
  {
   "cell_type": "markdown",
   "metadata": {},
   "source": [
    "# Conclusions\n",
    "- We can add the `clean_text()` function but it may be more appropriate for english\n",
    "- With the execption of some weird characters, and some acronyms, sentences are parsed properly\n",
    "- Only concern is sometimes bullet points/nested enumerations are captured together or apart... but maybe that's for future work."
   ]
  },
  {
   "cell_type": "markdown",
   "metadata": {},
   "source": [
    "# Appendix"
   ]
  },
  {
   "cell_type": "code",
   "execution_count": null,
   "metadata": {},
   "outputs": [],
   "source": [
    "def get_surrounding_chars(txt, radius=1):\n",
    "    surrounding_chars = []\n",
    "    all_period_idx = [indices.start() for indices in re.finditer(\"\\.\", txt)]\n",
    "    \n",
    "    for period_idx in all_period_idx:\n",
    "        start_idx = period_idx - radius\n",
    "        end_idx = period_idx + radius + 1\n",
    "        substring = txt[start_idx: end_idx]\n",
    "        \n",
    "        if substring:\n",
    "            surrounding_chars.append(substring)\n",
    "    \n",
    "    return surrounding_chars"
   ]
  },
  {
   "cell_type": "code",
   "execution_count": null,
   "metadata": {},
   "outputs": [],
   "source": [
    "surrounding_chars_1 = get_surrounding_chars(txt)\n",
    "surrounding_chars_2 = get_surrounding_chars(txt, radius=2)\n",
    "\n",
    "print(f\"For 1 character before and after a period, we have {len(set(surrounding_chars_1))} unique patterns\")\n",
    "print(f\"For 2 characters before and after a period, we have {len(set(surrounding_chars_2))} unique patterns\")"
   ]
  },
  {
   "cell_type": "code",
   "execution_count": null,
   "metadata": {},
   "outputs": [],
   "source": [
    "def get_possible_chars(neighboring_chars):\n",
    "    possible_chars = defaultdict(list)\n",
    "\n",
    "    for pattern in neighboring_chars:\n",
    "        if pattern[-1] == \" \":\n",
    "            possible_chars[\" \"].append(pattern)\n",
    "        elif pattern[-1].isalpha():\n",
    "            possible_chars[\"alpha\"].append(pattern)\n",
    "        elif pattern[-1].isnumeric():\n",
    "            possible_chars[\"numeric\"].append(pattern)\n",
    "        elif not pattern[-1].isalnum():\n",
    "            possible_chars[\"symbol\"].append(pattern)\n",
    "        else:\n",
    "            possible_chars[\"other\"].append(pattern)\n",
    "    \n",
    "    print(f\"Total: {len(neighboring_chars)}\")\n",
    "    return possible_chars\n",
    "\n",
    "def print_char_stats(possible_chars):\n",
    "    print(f\"Space: {len(possible_chars[' '])}\"), \n",
    "    print(f\"Alpha: {len(possible_chars['alpha'])}\"), \n",
    "    print(f\"Numeric: {len(possible_chars['numeric'])}\"), \n",
    "    print(f\"Symbol: {len(possible_chars['symbol'])}\"), \n",
    "    print(f\"Other: {len(possible_chars['other'])}\")"
   ]
  },
  {
   "cell_type": "code",
   "execution_count": null,
   "metadata": {},
   "outputs": [],
   "source": [
    "possible_chars = get_possible_chars(surrounding_chars_1)\n",
    "print_char_stats(possible_chars)"
   ]
  },
  {
   "cell_type": "code",
   "execution_count": null,
   "metadata": {},
   "outputs": [],
   "source": [
    "possible_chars = get_possible_chars(set(surrounding_chars_1))\n",
    "print_char_stats(possible_chars)"
   ]
  },
  {
   "cell_type": "code",
   "execution_count": null,
   "metadata": {},
   "outputs": [],
   "source": []
  }
 ],
 "metadata": {
  "kernelspec": {
   "display_name": "wri-env",
   "language": "python",
   "name": "wri-env"
  },
  "language_info": {
   "codemirror_mode": {
    "name": "ipython",
    "version": 3
   },
   "file_extension": ".py",
   "mimetype": "text/x-python",
   "name": "python",
   "nbconvert_exporter": "python",
   "pygments_lexer": "ipython3",
   "version": "3.8.5"
  }
 },
 "nbformat": 4,
 "nbformat_minor": 4
}
